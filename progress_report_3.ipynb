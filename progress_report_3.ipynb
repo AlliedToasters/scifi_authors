{
 "cells": [
  {
   "cell_type": "markdown",
   "metadata": {},
   "source": [
    "## Progress Report 3\n",
    "Previously I tried several clustering algorithms on this dataset. In terms of grouping the texts by author, Affinity Propagation did the best. Here I test the stability of these clusters in the holdout group and make a first pass at visualizing the clusters."
   ]
  },
  {
   "cell_type": "code",
   "execution_count": 70,
   "metadata": {},
   "outputs": [],
   "source": [
    "import pandas as pd\n",
    "import numpy as np\n",
    "import matplotlib.pyplot as plt\n",
    "from sklearn.feature_extraction.text import TfidfVectorizer\n",
    "import spacy\n",
    "from sklearn.decomposition import TruncatedSVD\n",
    "from sklearn.preprocessing import Normalizer\n",
    "from sklearn.cluster import AffinityPropagation\n",
    "from sklearn.pipeline import make_pipeline\n",
    "from sklearn.manifold import TSNE\n",
    "from sklearn import metrics\n",
    "from sklearn.tree import DecisionTreeClassifier\n",
    "import gc\n",
    "%matplotlib inline"
   ]
  },
  {
   "cell_type": "code",
   "execution_count": 34,
   "metadata": {
    "collapsed": true
   },
   "outputs": [],
   "source": [
    "df = pd.read_csv('docs.csv').sample(frac=1, random_state=0) #shuffle rows\n",
    "df.index = range(0, 100) #reindex"
   ]
  },
  {
   "cell_type": "code",
   "execution_count": 35,
   "metadata": {
    "collapsed": true
   },
   "outputs": [],
   "source": [
    "#Encode the authors and the source texts\n",
    "author_encoding = {}\n",
    "code = iter(range(0, len(df.author.unique())))\n",
    "for auth in df.author.unique():\n",
    "    author_encoding[auth] = next(code)\n",
    "    \n",
    "df['author_code'] = df.author.apply(lambda x: author_encoding[x])\n",
    "\n",
    "title_encoding = {}\n",
    "code = iter(range(0, len(df.title.unique())))\n",
    "for tit in df.title.unique():\n",
    "    title_encoding[tit] = next(code)\n",
    "    \n",
    "df['title_code'] = df.title.apply(lambda x: title_encoding[x])"
   ]
  },
  {
   "cell_type": "code",
   "execution_count": 36,
   "metadata": {},
   "outputs": [
    {
     "data": {
      "text/plain": [
       "25"
      ]
     },
     "execution_count": 36,
     "metadata": {},
     "output_type": "execute_result"
    }
   ],
   "source": [
    "#Reserve holdout group\n",
    "train = df.loc[:74].copy() #train group\n",
    "test = df.loc[75:].copy() #holdout group\n",
    "len(test)"
   ]
  },
  {
   "cell_type": "markdown",
   "metadata": {},
   "source": [
    "## Parsing and LSA"
   ]
  },
  {
   "cell_type": "code",
   "execution_count": null,
   "metadata": {
    "collapsed": true
   },
   "outputs": [],
   "source": [
    "def get_lemmas(document):\n",
    "    \"\"\"takes raw spacy parse and returns only\n",
    "    word lemmas, in or out of vocab.\n",
    "    \"\"\"\n",
    "    result = ''\n",
    "    for token in document:\n",
    "        if not token.is_space and not token.is_punct and not (token.lemma_ == '-PRON-'):\n",
    "            result += token.lemma_ + ' '\n",
    "        elif token.lemma_ == '-PRON-':\n",
    "            result += token.orth_ + ' '\n",
    "    return result"
   ]
  },
  {
   "cell_type": "code",
   "execution_count": 41,
   "metadata": {
    "collapsed": true
   },
   "outputs": [],
   "source": [
    "prs = spacy.load('en')\n",
    "train['raw_parse'] = train.text.apply(prs)\n",
    "train['lemmas'] = train.raw_parse.apply(get_lemmas)\n",
    "vec = TfidfVectorizer(stop_words='english', min_df=2, max_df=.99, ngram_range=(1, 3))\n",
    "svd = TruncatedSVD(n_components=74, random_state=0, algorithm='arpack')\n",
    "norm = Normalizer(copy=False)\n",
    "lsa = make_pipeline(svd, norm)\n",
    "trans = vec.fit_transform(train.lemmas)\n",
    "train_mat = lsa.fit_transform(trans)"
   ]
  },
  {
   "cell_type": "markdown",
   "metadata": {},
   "source": [
    "## Clustering with Affinity Propagation\n",
    "Affinity Propagation does a great job of clustering the documents by their source texts."
   ]
  },
  {
   "cell_type": "code",
   "execution_count": 44,
   "metadata": {},
   "outputs": [
    {
     "name": "stdout",
     "output_type": "stream",
     "text": [
      "number of clusters:  19\n",
      "Homogeneity: 0.976\n",
      "Completeness: 0.981\n",
      "V-measure: 0.978\n",
      "Adjusted Rand-Index: 0.927\n",
      "Silhouette Coefficient: 0.181\n"
     ]
    }
   ],
   "source": [
    "trans = vec.fit_transform(train.lemmas)\n",
    "train_mat = lsa.fit_transform(trans)\n",
    "ap = AffinityPropagation()\n",
    "np.unique(ap.fit_predict(train_mat))\n",
    "labels = train.title_code\n",
    "print('number of clusters: ', len(ap.cluster_centers_))\n",
    "print(\"Homogeneity: %0.3f\" % metrics.homogeneity_score(labels, ap.labels_))\n",
    "print(\"Completeness: %0.3f\" % metrics.completeness_score(labels, ap.labels_))\n",
    "print(\"V-measure: %0.3f\" % metrics.v_measure_score(labels, ap.labels_))\n",
    "print(\"Adjusted Rand-Index: %.3f\"\n",
    "      % metrics.adjusted_rand_score(labels, ap.labels_))\n",
    "print(\"Silhouette Coefficient: %0.3f\"\n",
    "      % metrics.silhouette_score(train_mat, ap.labels_, sample_size=-1))"
   ]
  },
  {
   "cell_type": "markdown",
   "metadata": {},
   "source": [
    "## Characterize Clusters\n",
    "While homogeneity and completeness of the clusters against source texts is very high, the cluster groupings in terms of source text is not perfect. This is made clear by the fact that there are 19 clusters and 20 source texts. I define each cluster by the source texts and authors that appear in each."
   ]
  },
  {
   "cell_type": "code",
   "execution_count": 73,
   "metadata": {},
   "outputs": [
    {
     "data": {
      "text/plain": [
       "[0, 16, 6, 1, 8, 13, 11, 2, 18, 15, 14, 3, 4, 5, 9, 7, 17, 10, 12]"
      ]
     },
     "execution_count": 73,
     "metadata": {},
     "output_type": "execute_result"
    }
   ],
   "source": [
    "list(train.ap_cluster.unique())"
   ]
  },
  {
   "cell_type": "code",
   "execution_count": 84,
   "metadata": {},
   "outputs": [
    {
     "name": "stdout",
     "output_type": "stream",
     "text": [
      "cluster  0 authors:  ['dick']\n",
      "cluster  0 source texts:  ['variableman']\n",
      "cluster  1 authors:  ['reynolds']\n",
      "cluster  1 source texts:  ['spaceman_spree']\n",
      "cluster  2 authors:  ['reynolds']\n",
      "cluster  2 source texts:  ['off_course']\n",
      "cluster  3 authors:  ['asimov']\n",
      "cluster  3 source texts:  ['nuclear_energy_3']\n",
      "cluster  4 authors:  ['dick']\n",
      "cluster  4 source texts:  ['mrspaceship']\n",
      "cluster  5 authors:  ['herbert']\n",
      "cluster  5 source texts:  ['haystack']\n",
      "cluster  6 authors:  ['asimov']\n",
      "cluster  6 source texts:  ['youth']\n",
      "cluster  7 authors:  ['rockwell']\n",
      "cluster  7 source texts:  ['space_pirates', 'venus_revolt']\n",
      "cluster  8 authors:  ['verne']\n",
      "cluster  8 source texts:  ['20000leagues']\n",
      "cluster  9 authors:  ['pohl']\n",
      "cluster  9 source texts:  ['skysearch']\n",
      "cluster  10 authors:  ['bradbury']\n",
      "cluster  10 source texts:  ['futuria']\n",
      "cluster  11 authors:  ['bradbury']\n",
      "cluster  11 source texts:  ['futuria']\n",
      "cluster  12 authors:  ['herbert']\n",
      "cluster  12 source texts:  ['old_rambling_house']\n",
      "cluster  13 authors:  ['wells']\n",
      "cluster  13 source texts:  ['discovery_future']\n",
      "cluster  14 authors:  ['bradbury']\n",
      "cluster  14 source texts:  ['a_little_journey']\n",
      "cluster  15 authors:  ['verne']\n",
      "cluster  15 source texts:  ['moon_journey']\n",
      "cluster  16 authors:  ['vonnegut']\n",
      "cluster  16 source texts:  ['trip_up_yonder', '2BR02B']\n",
      "cluster  17 authors:  ['pohl']\n",
      "cluster  17 source texts:  ['tunnel']\n",
      "cluster  18 authors:  ['wells']\n",
      "cluster  18 source texts:  ['moon_men']\n"
     ]
    }
   ],
   "source": [
    "clusters = {}\n",
    "for clust in df.ap_cluster.unique():\n",
    "    clusters[clust] = (\n",
    "        list(train[train.ap_cluster==clust].author.unique()), \n",
    "        list(train[train.ap_cluster==clust].title.unique()),\n",
    "    )\n",
    "for clust in range(0, len(clusters)):\n",
    "    print('cluster ', clust, 'authors: ', clusters[clust][0])\n",
    "    print('cluster ', clust, 'source texts: ', clusters[clust][1])"
   ]
  },
  {
   "cell_type": "markdown",
   "metadata": {},
   "source": [
    "Every cluster belongs to just one author. Clusters 7 and 16 include chapters from different source texts by the same author, and clusters 10 and 11 both include chapters from the same source text, Futuria by Bradbury."
   ]
  },
  {
   "cell_type": "markdown",
   "metadata": {},
   "source": [
    "## Check Cluster Stability\n",
    "I invoke the holdout group to see how the clusters hold up on new examples."
   ]
  },
  {
   "cell_type": "code",
   "execution_count": 45,
   "metadata": {
    "collapsed": true
   },
   "outputs": [],
   "source": [
    "#Process text in holdout group\n",
    "test['raw_parse'] = test.text.apply(prs)\n",
    "test['lemmas'] = test.raw_parse.apply(get_lemmas)\n",
    "trans = vec.transform(test.lemmas)\n",
    "test_mat = lsa.transform(trans)"
   ]
  },
  {
   "cell_type": "code",
   "execution_count": 46,
   "metadata": {
    "collapsed": true
   },
   "outputs": [],
   "source": [
    "train['ap_cluster'] = ap.predict(train_mat) #record cluster assignments for training group\n",
    "test['ap_cluster'] = ap.predict(test_mat) #and holdout group\n",
    "df = pd.concat([train, test], axis=0)   #Add cluster assignments to original dataframe.\n",
    "all_pc = np.concatenate([train_mat, test_mat], axis=0) #Concatenate LSA features from training and holdout groups."
   ]
  },
  {
   "cell_type": "markdown",
   "metadata": {},
   "source": [
    "I check to see if the holdout group clustering assignments deviate from our previous cluster definition."
   ]
  },
  {
   "cell_type": "code",
   "execution_count": 89,
   "metadata": {},
   "outputs": [
    {
     "name": "stdout",
     "output_type": "stream",
     "text": [
      "devation: author vonnegut assigned to cluster belonging to wells\n",
      "deviation occured at index:  93\n",
      "devation: title 2BR02B assigned to cluster belonging to ['moon_men']\n",
      "deviation occured at index:  93\n"
     ]
    }
   ],
   "source": [
    "deviant_assignments = []\n",
    "for i in test.index:\n",
    "    row = test.loc[i]\n",
    "    cluster = clusters[row.ap_cluster]\n",
    "    if row.author not in cluster[0]:\n",
    "        print('devation: author {} assigned to cluster belonging to {}'.format(row.author, cluster[0][0]))\n",
    "        print('deviation occured at index: ', i)\n",
    "        deviant_assignments.append(i)\n",
    "    if row.title not in cluster[1]:\n",
    "        print('devation: title {} assigned to cluster belonging to {}'.format(row.title, cluster[1]))\n",
    "        print('deviation occured at index: ', i)\n",
    "        deviant_assignments.append(i)\n",
    "        \n",
    "deviant_assignments = list(set(deviant_assignments))"
   ]
  },
  {
   "cell_type": "code",
   "execution_count": 90,
   "metadata": {},
   "outputs": [
    {
     "name": "stdout",
     "output_type": "stream",
     "text": [
      "text           \\nEverything was perfectly swell.\\n\\nThere wer...\n",
      "title                                                     2BR02B\n",
      "author                                                  vonnegut\n",
      "date                                                        1962\n",
      "fiction                                                        1\n",
      "lengths                                                     1152\n",
      "author_code                                                    1\n",
      "title_code                                                    19\n",
      "raw_parse      (\\n, Everything, was, perfectly, swell, ., \\n\\...\n",
      "lemmas         everything be perfectly swell there be no pris...\n",
      "ap_cluster                                                    18\n",
      "Name: 93, dtype: object\n"
     ]
    }
   ],
   "source": [
    "for i in deviant_assignments:\n",
    "    print(test.loc[i])"
   ]
  },
  {
   "cell_type": "markdown",
   "metadata": {},
   "source": [
    "Very interesting. The holdout group gives only one deviation from the training group clustering. It assigns a chapter from \"2BR02B\" (1962) by Vonnegut to \"The First Men in the Moon\" (1901) by H.G. Wells. These two works are notably far apart in both time and topic. With a look at Vonneguts writing style in (what happens to be) the first excerpt of 2BR02B, I guess it could have something to do with his vocabulary, but my guess is as good as any. It's important also to note that Vonnegut has fewer examples than all of the other authors, which could contribute to this confusion."
   ]
  },
  {
   "cell_type": "code",
   "execution_count": 96,
   "metadata": {},
   "outputs": [
    {
     "name": "stdout",
     "output_type": "stream",
     "text": [
      "Examples in dataset by each author:\n"
     ]
    },
    {
     "data": {
      "text/plain": [
       "pohl        11\n",
       "verne       11\n",
       "wells       11\n",
       "asimov      11\n",
       "reynolds    10\n",
       "rockwell    10\n",
       "dick        10\n",
       "herbert     10\n",
       "bradbury    10\n",
       "vonnegut     6\n",
       "Name: author, dtype: int64"
      ]
     },
     "execution_count": 96,
     "metadata": {},
     "output_type": "execute_result"
    }
   ],
   "source": [
    "print('Examples in dataset by each author:')\n",
    "df.author.value_counts()"
   ]
  },
  {
   "cell_type": "code",
   "execution_count": 97,
   "metadata": {},
   "outputs": [
    {
     "name": "stdout",
     "output_type": "stream",
     "text": [
      "Examples in training set by each author:\n"
     ]
    },
    {
     "data": {
      "text/plain": [
       "asimov      10\n",
       "wells        9\n",
       "reynolds     9\n",
       "verne        8\n",
       "pohl         8\n",
       "dick         8\n",
       "bradbury     8\n",
       "herbert      7\n",
       "rockwell     5\n",
       "vonnegut     3\n",
       "Name: author, dtype: int64"
      ]
     },
     "execution_count": 97,
     "metadata": {},
     "output_type": "execute_result"
    }
   ],
   "source": [
    "print('Examples in training set by each author:')\n",
    "train.author.value_counts()"
   ]
  },
  {
   "cell_type": "code",
   "execution_count": 94,
   "metadata": {},
   "outputs": [
    {
     "data": {
      "text/plain": [
       "\n",
       "Everything was perfectly swell.\n",
       "\n",
       "There were no prisons, no slums, no insane asylums, no cripples, no\n",
       "poverty, no wars.\n",
       "\n",
       "All diseases were conquered. So was old age.\n",
       "\n",
       "Death, barring accidents, was an adventure for volunteers.\n",
       "\n",
       "The population of the United States was stabilized at forty-million\n",
       "souls.\n",
       "\n",
       "One bright morning in the Chicago Lying-in Hospital, a man named Edward\n",
       "K. Wehling, Jr., waited for his wife to give birth. He was the only man\n",
       "waiting. Not many people were born a day any more.\n",
       "\n",
       "Wehling was fifty-six, a mere stripling in a population whose average\n",
       "age was one hundred and twenty-nine.\n",
       "\n",
       "X-rays had revealed that his wife was going to have triplets. The\n",
       "children would be his first.\n",
       "\n",
       "Young Wehling was hunched in his chair, his head in his hand. He was so\n",
       "rumpled, so still and colorless as to be virtually invisible. His\n",
       "camouflage was perfect, since the waiting room had a disorderly and\n",
       "demoralized air, too. Chairs and ashtrays had been moved away from the\n",
       "walls. The floor was paved with spattered dropcloths.\n",
       "\n",
       "The room was being redecorated. It was being redecorated as a memorial\n",
       "to a man who had volunteered to die.\n",
       "\n",
       "A sardonic old man, about two hundred years old, sat on a stepladder,\n",
       "painting a mural he did not like. Back in the days when people aged\n",
       "visibly, his age would have been guessed at thirty-five or so. Aging had\n",
       "touched him that much before the cure for aging was found.\n",
       "\n",
       "The mural he was working on depicted a very neat garden. Men and women\n",
       "in white, doctors and nurses, turned the soil, planted seedlings,\n",
       "sprayed bugs, spread fertilizer.\n",
       "\n",
       "Men and women in purple uniforms pulled up weeds, cut down plants that\n",
       "were old and sickly, raked leaves, carried refuse to trash-burners.\n",
       "\n",
       "Never, never, never--not even in medieval Holland nor old Japan--had a\n",
       "garden been more formal, been better tended. Every plant had all the\n",
       "loam, light, water, air and nourishment it could use.\n",
       "\n",
       "A hospital orderly came down the corridor, singing under his breath a\n",
       "popular song:\n",
       "\n",
       "     If you don't like my kisses, honey,\n",
       "     Here's what I will do:\n",
       "     I'll go see a girl in purple,\n",
       "     Kiss this sad world toodle-oo.\n",
       "     If you don't want my lovin',\n",
       "     Why should I take up all this space?\n",
       "     I'll get off this old planet,\n",
       "     Let some sweet baby have my place.\n",
       "\n",
       "The orderly looked in at the mural and the muralist. \"Looks so real,\"\n",
       "he said, \"I can practically imagine I'm standing in the middle of it.\"\n",
       "\n",
       "\"What makes you think you're not in it?\" said the painter. He gave a\n",
       "satiric smile. \"It's called 'The Happy Garden of Life,' you know.\"\n",
       "\n",
       "\"That's good of Dr. Hitz,\" said the orderly.\n",
       "\n",
       "He was referring to one of the male figures in white, whose head was a\n",
       "portrait of Dr. Benjamin Hitz, the hospital's Chief Obstetrician. Hitz\n",
       "was a blindingly handsome man.\n",
       "\n",
       "\"Lot of faces still to fill in,\" said the orderly. He meant that the\n",
       "faces of many of the figures in the mural were still blank. All blanks\n",
       "were to be filled with portraits of important people on either the\n",
       "hospital staff or from the Chicago Office of the Federal Bureau of\n",
       "Termination.\n",
       "\n",
       "\"Must be nice to be able to make pictures that look like something,\"\n",
       "said the orderly.\n",
       "\n",
       "The painter's face curdled with scorn. \"You think I'm proud of this\n",
       "daub?\" he said. \"You think this is my idea of what life really looks\n",
       "like?\"\n",
       "\n",
       "\"What's your idea of what life looks like?\" said the orderly.\n",
       "\n",
       "The painter gestured at a foul dropcloth. \"There's a good picture of\n",
       "it,\" he said. \"Frame that, and you'll have a picture a damn sight more\n",
       "honest than this one.\"\n",
       "\n",
       "\"You're a gloomy old duck, aren't you?\" said the orderly.\n",
       "\n",
       "\"Is that a crime?\" said the painter.\n",
       "\n",
       "The orderly shrugged. \"If you don't like it here, Grandpa--\" he said,\n",
       "and he finished the thought with the trick telephone number that people\n",
       "who didn't want to live any more were supposed to call. The zero in the\n",
       "telephone number he pronounced \"naught.\"\n",
       "\n",
       "The number was: \"2 B R 0 2 B.\"\n",
       "\n",
       "It was the telephone number of an institution whose fanciful sobriquets\n",
       "included: \"Automat,\" \"Birdland,\" \"Cannery,\" \"Catbox,\" \"De-louser,\"\n",
       "\"Easy-go,\" \"Good-by, Mother,\" \"Happy Hooligan,\" \"Kiss-me-quick,\" \"Lucky\n",
       "Pierre,\" \"Sheepdip,\" \"Waring Blendor,\" \"Weep-no-more\" and \"Why Worry?\"\n",
       "\n",
       "\"To be or not to be\" was the telephone number of the municipal gas\n",
       "chambers of the Federal Bureau of Termination.\n",
       "\n",
       "The painter thumbed his nose at the orderly. \"When I decide it's time to\n",
       "go,\" he said, \"it won't be at the Sheepdip.\"\n",
       "\n",
       "\"A do-it-yourselfer, eh?\" said the orderly. \"Messy business, Grandpa.\n",
       "Why don't you have a little consideration for the people who have to\n",
       "clean up after you?\"\n",
       "\n",
       "The painter expressed with an obscenity his lack of concern for the\n",
       "tribulations of his survivors. \"The world could do with a good deal more\n",
       "mess, if you ask me,\" he said.\n",
       "\n",
       "The orderly laughed and moved on.\n",
       "\n",
       "Wehling, the waiting father, mumbled something without raising his head.\n",
       "And then he fell silent again.\n",
       "\n",
       "A coarse, formidable woman strode into the waiting room on spike heels.\n",
       "Her shoes, stockings, trench coat, bag and overseas cap were all purple,\n",
       "the purple the painter called \"the color of grapes on Judgment Day.\"\n",
       "\n",
       "The medallion on her purple musette bag was the seal of the Service\n",
       "Division of the Federal Bureau of Termination, an eagle perched on a\n",
       "turnstile.\n",
       "\n",
       "The woman had a lot of facial hair--an unmistakable mustache, in fact. A\n",
       "curious thing about gas-chamber hostesses was that, no matter how lovely\n",
       "and feminine they were when recruited, they all sprouted mustaches\n",
       "within five years or so.\n",
       "\n",
       "\"Is this where I'm supposed to come?\" she said to the painter.\n",
       "\n",
       "\"A lot would depend on what your business was,\" he said. \"You aren't\n",
       "about to have a baby, are you?\"\n",
       "\n",
       "\"They told me I was supposed to pose for some picture,\" she said. \"My\n",
       "name's Leora Duncan.\" She waited.\n",
       "\n",
       "\"And you dunk people,\" he said.\n",
       "\n",
       "\"What?\" she said.\n",
       "\n",
       "\"Skip it,\" he said.\n",
       "\n",
       "\"That sure is a beautiful picture,\" she said. \"Looks just like heaven or\n",
       "something.\"\n",
       "\n",
       "\"Or something,\" said the painter. He took a list of names from his smock\n",
       "pocket. \"Duncan, Duncan, Duncan,\" he said, scanning the list. \"Yes--here\n",
       "you are. You're entitled to be immortalized. See any faceless body here\n",
       "you'd like me to stick your head on? We've got a few choice ones left.\"\n",
       "\n",
       "She studied the mural bleakly. \"Gee,\" she said, \"they're all the same to\n",
       "me. I don't know anything about art.\"\n",
       "\n",
       "\"A body's a body, eh?\" he said. \"All righty. As a master of fine art, I\n",
       "recommend this body here.\" He indicated a faceless figure of a woman who\n",
       "was carrying dried stalks to a trash-burner.\n",
       "\n",
       "\"Well,\" said Leora Duncan, \"that's more the disposal people, isn't it? I\n",
       "mean, I'm in service. I don't do any disposing.\""
      ]
     },
     "execution_count": 94,
     "metadata": {},
     "output_type": "execute_result"
    }
   ],
   "source": [
    "#Take a look at the text of the mis-asigned chapter.\n",
    "test.loc[deviant_assignments[0]].raw_parse"
   ]
  },
  {
   "cell_type": "markdown",
   "metadata": {},
   "source": [
    "## Visualizing the Clusters\n",
    "I use t-SNE to visualize the clusters with general success. Some of the clusters are a bit mixed, but the Affinity Propagation algorithm seems to have detected the important similarities between these examples where t-SNE missed them. (Apologies for lack of labels; coming soon!)"
   ]
  },
  {
   "cell_type": "code",
   "execution_count": 100,
   "metadata": {},
   "outputs": [
    {
     "data": {
      "image/png": "[encoded data removed]",
      "text/plain": [
       "<matplotlib.figure.Figure at 0x7f374708f9e8>"
      ]
     },
     "metadata": {},
     "output_type": "display_data"
    }
   ],
   "source": [
    "tsne = TSNE(\n",
    "    n_components=2, \n",
    "    init='pca', \n",
    "    random_state=0, \n",
    "    method='exact', \n",
    "    early_exaggeration=200, \n",
    "    learning_rate=200,\n",
    "    n_iter=10000\n",
    ")\n",
    "ts = tsne.fit_transform(all_pc)\n",
    "plt.figure(figsize=(8, 8));\n",
    "plt.scatter(ts[:,0], ts[:,1], c=df.ap_cluster, cmap='tab20', label='cluster');\n",
    "#for i, cent in enumerate(ap.cluster_centers_):\n",
    "#    plt.scatter(tsne.transform(cent), label='cluster number: '.format(i))\n",
    "plt.title('Dimension-reduced Cluster Visualization');\n",
    "plt.show();"
   ]
  },
  {
   "cell_type": "markdown",
   "metadata": {},
   "source": [
    "I also tried a 3d scatterplot in an attempt to improve cluster definition with no success. The 3d plots were hard to interpret and provided no visible improvement."
   ]
  },
  {
   "cell_type": "markdown",
   "metadata": {
    "collapsed": true
   },
   "source": [
    "## Making Predictions From Clusters\n",
    "Since the cluster assignments were petty spot-on, building a model for predicting authors is easy. I just use  simple decision tree and the classifier performs perfectly except for the one missed assignment."
   ]
  },
  {
   "cell_type": "code",
   "execution_count": 58,
   "metadata": {
    "collapsed": true
   },
   "outputs": [],
   "source": [
    "mod = DecisionTreeClassifier(random_state=0)"
   ]
  },
  {
   "cell_type": "code",
   "execution_count": 59,
   "metadata": {},
   "outputs": [
    {
     "name": "stderr",
     "output_type": "stream",
     "text": [
      "/home/alliedtoasters/anaconda3/envs/dspy3/lib/python3.6/site-packages/ipykernel/__main__.py:1: FutureWarning: reshape is deprecated and will raise in a subsequent release. Please use .values.reshape(...) instead\n",
      "  if __name__ == '__main__':\n"
     ]
    },
    {
     "data": {
      "text/plain": [
       "DecisionTreeClassifier(class_weight=None, criterion='gini', max_depth=None,\n",
       "            max_features=None, max_leaf_nodes=None,\n",
       "            min_impurity_decrease=0.0, min_impurity_split=None,\n",
       "            min_samples_leaf=1, min_samples_split=2,\n",
       "            min_weight_fraction_leaf=0.0, presort=False, random_state=0,\n",
       "            splitter='best')"
      ]
     },
     "execution_count": 59,
     "metadata": {},
     "output_type": "execute_result"
    }
   ],
   "source": [
    "mod.fit(train.ap_cluster.reshape(-1, 1), train.author.reshape(-1, 1))"
   ]
  },
  {
   "cell_type": "code",
   "execution_count": 60,
   "metadata": {},
   "outputs": [
    {
     "name": "stderr",
     "output_type": "stream",
     "text": [
      "/home/alliedtoasters/anaconda3/envs/dspy3/lib/python3.6/site-packages/ipykernel/__main__.py:1: FutureWarning: reshape is deprecated and will raise in a subsequent release. Please use .values.reshape(...) instead\n",
      "  if __name__ == '__main__':\n"
     ]
    }
   ],
   "source": [
    "pred = mod.predict(test.ap_cluster.reshape(-1, 1))"
   ]
  },
  {
   "cell_type": "code",
   "execution_count": 61,
   "metadata": {},
   "outputs": [
    {
     "name": "stdout",
     "output_type": "stream",
     "text": [
      "incorrect:  18\n"
     ]
    }
   ],
   "source": [
    "incorrect_predictions = []\n",
    "for num in range(0, len(test)):\n",
    "    if pred[num] != test.iloc[num].author:\n",
    "        print('incorrect: ', num)\n",
    "        incorrect_predictions.append(num)"
   ]
  },
  {
   "cell_type": "code",
   "execution_count": 66,
   "metadata": {},
   "outputs": [
    {
     "data": {
      "text/plain": [
       "'vonnegut'"
      ]
     },
     "execution_count": 66,
     "metadata": {},
     "output_type": "execute_result"
    }
   ],
   "source": [
    "#Just a sanity check to make sure the error agrees with the clustering error.\n",
    "test.iloc[18].author"
   ]
  },
  {
   "cell_type": "code",
   "execution_count": 63,
   "metadata": {},
   "outputs": [
    {
     "data": {
      "text/plain": [
       "'wells'"
      ]
     },
     "execution_count": 63,
     "metadata": {},
     "output_type": "execute_result"
    }
   ],
   "source": [
    "pred[18]"
   ]
  },
  {
   "cell_type": "code",
   "execution_count": null,
   "metadata": {
    "collapsed": true
   },
   "outputs": [],
   "source": [
    "#Sure enough!"
   ]
  }
 ],
 "metadata": {
  "anaconda-cloud": {},
  "kernelspec": {
   "display_name": "Environment (conda_dspy3)",
   "language": "python",
   "name": "conda_dspy3"
  }
 },
 "nbformat": 4,
 "nbformat_minor": 2
}
