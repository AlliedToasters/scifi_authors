{
 "cells": [
  {
   "cell_type": "code",
   "execution_count": 2,
   "metadata": {
    "collapsed": true
   },
   "outputs": [],
   "source": [
    "import pandas as pd\n",
    "import numpy as np\n",
    "import matplotlib.pyplot as plt\n",
    "from sklearn.feature_extraction.text import TfidfVectorizer\n",
    "import spacy\n",
    "from sklearn.decomposition import TruncatedSVD\n",
    "from sklearn.cluster import KMeans, MeanShift, SpectralClustering, AffinityPropagation\n",
    "from sklearn.pipeline import Pipeline\n",
    "from sklearn.naive_bayes import BernoulliNB\n",
    "from sklearn.model_selection import GridSearchCV\n",
    "import gc"
   ]
  },
  {
   "cell_type": "code",
   "execution_count": 3,
   "metadata": {
    "collapsed": true
   },
   "outputs": [],
   "source": [
    "df = pd.read_csv('docs.csv').sample(frac=1, random_state=0) #shuffle rows\n",
    "df.index = range(0, 100) #reindex"
   ]
  },
  {
   "cell_type": "markdown",
   "metadata": {},
   "source": [
    "## The Dataset\n",
    "I've grabbed chapters and various labels from the text:"
   ]
  },
  {
   "cell_type": "code",
   "execution_count": 8,
   "metadata": {},
   "outputs": [
    {
     "name": "stdout",
     "output_type": "stream",
     "text": [
      "100\n"
     ]
    },
    {
     "data": {
      "text/html": [
       "<div>\n",
       "<style>\n",
       "    .dataframe thead tr:only-child th {\n",
       "        text-align: right;\n",
       "    }\n",
       "\n",
       "    .dataframe thead th {\n",
       "        text-align: left;\n",
       "    }\n",
       "\n",
       "    .dataframe tbody tr th {\n",
       "        vertical-align: top;\n",
       "    }\n",
       "</style>\n",
       "<table border=\"1\" class=\"dataframe\">\n",
       "  <thead>\n",
       "    <tr style=\"text-align: right;\">\n",
       "      <th></th>\n",
       "      <th>text</th>\n",
       "      <th>title</th>\n",
       "      <th>author</th>\n",
       "      <th>date</th>\n",
       "      <th>fiction</th>\n",
       "      <th>lengths</th>\n",
       "    </tr>\n",
       "  </thead>\n",
       "  <tbody>\n",
       "    <tr>\n",
       "      <th>0</th>\n",
       "      <td>\\n    He fixed things--clocks, refrigerators, ...</td>\n",
       "      <td>variableman</td>\n",
       "      <td>dick</td>\n",
       "      <td>1953</td>\n",
       "      <td>1</td>\n",
       "      <td>1106</td>\n",
       "    </tr>\n",
       "    <tr>\n",
       "      <th>1</th>\n",
       "      <td>\\nGramps missed none of the high drama he had ...</td>\n",
       "      <td>trip_up_yonder</td>\n",
       "      <td>vonnegut</td>\n",
       "      <td>1953</td>\n",
       "      <td>1</td>\n",
       "      <td>880</td>\n",
       "    </tr>\n",
       "    <tr>\n",
       "      <th>2</th>\n",
       "      <td>\\nThe swaying had come to a halt and it was da...</td>\n",
       "      <td>youth</td>\n",
       "      <td>asimov</td>\n",
       "      <td>1952</td>\n",
       "      <td>1</td>\n",
       "      <td>1155</td>\n",
       "    </tr>\n",
       "    <tr>\n",
       "      <th>3</th>\n",
       "      <td>\\nThey gave him a gold watch. It was meant to ...</td>\n",
       "      <td>spaceman_spree</td>\n",
       "      <td>reynolds</td>\n",
       "      <td>1963</td>\n",
       "      <td>1</td>\n",
       "      <td>758</td>\n",
       "    </tr>\n",
       "    <tr>\n",
       "      <th>4</th>\n",
       "      <td>\\n\"Conseil,\" I called in an impatient voice.\\n...</td>\n",
       "      <td>20000leagues</td>\n",
       "      <td>verne</td>\n",
       "      <td>1870</td>\n",
       "      <td>1</td>\n",
       "      <td>801</td>\n",
       "    </tr>\n",
       "  </tbody>\n",
       "</table>\n",
       "</div>"
      ],
      "text/plain": [
       "                                                text           title  \\\n",
       "0  \\n    He fixed things--clocks, refrigerators, ...     variableman   \n",
       "1  \\nGramps missed none of the high drama he had ...  trip_up_yonder   \n",
       "2  \\nThe swaying had come to a halt and it was da...           youth   \n",
       "3  \\nThey gave him a gold watch. It was meant to ...  spaceman_spree   \n",
       "4  \\n\"Conseil,\" I called in an impatient voice.\\n...    20000leagues   \n",
       "\n",
       "     author  date  fiction  lengths  \n",
       "0      dick  1953        1     1106  \n",
       "1  vonnegut  1953        1      880  \n",
       "2    asimov  1952        1     1155  \n",
       "3  reynolds  1963        1      758  \n",
       "4     verne  1870        1      801  "
      ]
     },
     "execution_count": 8,
     "metadata": {},
     "output_type": "execute_result"
    }
   ],
   "source": [
    "print(len(df))\n",
    "df.head()"
   ]
  },
  {
   "cell_type": "code",
   "execution_count": 6,
   "metadata": {},
   "outputs": [
    {
     "data": {
      "text/plain": [
       "pohl        11\n",
       "verne       11\n",
       "asimov      11\n",
       "wells       11\n",
       "dick        10\n",
       "herbert     10\n",
       "rockwell    10\n",
       "bradbury    10\n",
       "reynolds    10\n",
       "vonnegut     6\n",
       "Name: author, dtype: int64"
      ]
     },
     "execution_count": 6,
     "metadata": {},
     "output_type": "execute_result"
    }
   ],
   "source": [
    "#And the author classes are mostly balanced. \n",
    "#Vonnegut only has two short stories under the public license,\n",
    "#so his class is a little smaller than the others.\n",
    "df.author.value_counts()"
   ]
  },
  {
   "cell_type": "code",
   "execution_count": 28,
   "metadata": {},
   "outputs": [
    {
     "data": {
      "image/png": "[encoded data removed]",
      "text/plain": [
       "<matplotlib.figure.Figure at 0x7fcc0c2093c8>"
      ]
     },
     "metadata": {},
     "output_type": "display_data"
    }
   ],
   "source": [
    "#There is a bit of variance in the number of words for each sample, too. They vary between 600 and 1400 words.\n",
    "df.lengths.hist()\n",
    "plt.title('Chapter length distribution');\n",
    "plt.xlabel('number of words')\n",
    "plt.ylabel('number of chapters')\n",
    "plt.show();"
   ]
  },
  {
   "cell_type": "markdown",
   "metadata": {},
   "source": [
    "## Holdout group\n",
    "Reserving 25% of the samples for holdout group."
   ]
  },
  {
   "cell_type": "code",
   "execution_count": 12,
   "metadata": {},
   "outputs": [
    {
     "data": {
      "text/plain": [
       "25"
      ]
     },
     "execution_count": 12,
     "metadata": {},
     "output_type": "execute_result"
    }
   ],
   "source": [
    "train = df.loc[:74].copy() #train grou, 75 samples\n",
    "test = df.loc[75:].copy() #holdout group\n",
    "len(test)"
   ]
  },
  {
   "cell_type": "markdown",
   "metadata": {},
   "source": [
    "## Parsing\n",
    "Using spacy to sparse the data."
   ]
  },
  {
   "cell_type": "code",
   "execution_count": 13,
   "metadata": {
    "collapsed": true
   },
   "outputs": [],
   "source": [
    "prs = spacy.load('en')"
   ]
  },
  {
   "cell_type": "code",
   "execution_count": 14,
   "metadata": {},
   "outputs": [],
   "source": [
    "train['raw_parse'] = train.text.apply(prs)"
   ]
  },
  {
   "cell_type": "code",
   "execution_count": 15,
   "metadata": {
    "collapsed": true
   },
   "outputs": [],
   "source": [
    "def get_lemmas(document):\n",
    "    \"\"\"takes raw spacy parse and returns only\n",
    "    word lemmas, in or out of vocab.\n",
    "    \"\"\"\n",
    "    result = ''\n",
    "    for token in document:\n",
    "        if not token.is_space and not token.is_punct and not (token.lemma_ == '-PRON-'):\n",
    "            result += token.lemma_ + ' '\n",
    "        elif token.lemma_ == '-PRON-':\n",
    "            result += token.orth_ + ' '\n",
    "    return result"
   ]
  },
  {
   "cell_type": "code",
   "execution_count": 16,
   "metadata": {
    "collapsed": true
   },
   "outputs": [],
   "source": [
    "train['lemmas'] = train.raw_parse.apply(get_lemmas)"
   ]
  },
  {
   "cell_type": "markdown",
   "metadata": {},
   "source": [
    "## Vectorize\n",
    "Using tfidf to vectorize"
   ]
  },
  {
   "cell_type": "code",
   "execution_count": 17,
   "metadata": {},
   "outputs": [
    {
     "data": {
      "text/plain": [
       "TfidfVectorizer(analyzer='word', binary=False, decode_error='strict',\n",
       "        dtype=<class 'numpy.int64'>, encoding='utf-8', input='content',\n",
       "        lowercase=True, max_df=0.99, max_features=None, min_df=2,\n",
       "        ngram_range=(1, 3), norm='l2', preprocessor=None, smooth_idf=True,\n",
       "        stop_words='english', strip_accents=None, sublinear_tf=False,\n",
       "        token_pattern='(?u)\\\\b\\\\w\\\\w+\\\\b', tokenizer=None, use_idf=True,\n",
       "        vocabulary=None)"
      ]
     },
     "execution_count": 17,
     "metadata": {},
     "output_type": "execute_result"
    }
   ],
   "source": [
    "vec = TfidfVectorizer(stop_words='english', min_df=2, max_df=.99, ngram_range=(1, 3))\n",
    "vec.fit(train.lemmas)"
   ]
  },
  {
   "cell_type": "code",
   "execution_count": 18,
   "metadata": {
    "collapsed": true
   },
   "outputs": [],
   "source": [
    "train_mat = vec.transform(train.lemmas)"
   ]
  },
  {
   "cell_type": "markdown",
   "metadata": {},
   "source": [
    "## Basic attempt at clustering\n",
    "used SVD to cluster. It was kind of interesting how these four clusters appear when I just use two components:"
   ]
  },
  {
   "cell_type": "code",
   "execution_count": 21,
   "metadata": {},
   "outputs": [
    {
     "data": {
      "image/png": "[encoded data removed]",
      "text/plain": [
       "<matplotlib.figure.Figure at 0x7fcc0d00eba8>"
      ]
     },
     "metadata": {},
     "output_type": "display_data"
    },
    {
     "data": {
      "image/png": "[encoded data removed]",
      "text/plain": [
       "<matplotlib.figure.Figure at 0x7fcc0d4d44e0>"
      ]
     },
     "metadata": {},
     "output_type": "display_data"
    }
   ],
   "source": [
    "svd = TruncatedSVD(n_components=2, random_state=0)\n",
    "train_trans = svd.fit_transform(train_mat).reshape(2, 75)\n",
    "c1 = train_trans[0]\n",
    "c2 = train_trans[1]\n",
    "\n",
    "train['c1'] = c1\n",
    "train['c2'] = c2\n",
    "\n",
    "plt.scatter(c1, c2)\n",
    "plt.show();\n",
    "\n",
    "mshift = MeanShift(bandwidth=.2)\n",
    "train['mshift'] = mshift.fit_predict(train[['c1', 'c2']])\n",
    "plt.scatter(train['c1'], train['c2'], c=train['mshift'])\n",
    "plt.show();"
   ]
  },
  {
   "cell_type": "markdown",
   "metadata": {},
   "source": [
    "... However, the four clusters don't seem to provide any distinguishing information. between the various labels on the data."
   ]
  },
  {
   "cell_type": "code",
   "execution_count": 22,
   "metadata": {},
   "outputs": [
    {
     "data": {
      "image/png": "[encoded data removed]",
      "text/plain": [
       "<matplotlib.figure.Figure at 0x7fcc0d305f98>"
      ]
     },
     "metadata": {},
     "output_type": "display_data"
    }
   ],
   "source": [
    "fig, ax = plt.subplots(2)\n",
    "for clust in train.mshift.unique():\n",
    "    ax[0].hist(train[train['mshift']==clust].lengths, alpha=.4, label=str(clust))\n",
    "    ax[1].hist(train[train['mshift']==clust].date, alpha=.4, label=str(clust), bins=30)\n",
    "plt.legend();\n",
    "plt.show();"
   ]
  },
  {
   "cell_type": "markdown",
   "metadata": {},
   "source": [
    "## Predicting authors with cluster features (doesn't really work yet.)"
   ]
  },
  {
   "cell_type": "code",
   "execution_count": null,
   "metadata": {
    "collapsed": true
   },
   "outputs": [],
   "source": [
    "# I ran this gridsearch across a number of parameters to try to predict authors. None performed better than 13%.\n",
    "# This was all a pretty rushed, naive attempt anyway, but I think what's lacking is more features."
   ]
  },
  {
   "cell_type": "code",
   "execution_count": null,
   "metadata": {
    "collapsed": true
   },
   "outputs": [],
   "source": [
    "vec = TfidfVectorizer()\n",
    "trans = TruncatedSVD()\n",
    "clust = KMeans()\n",
    "mod = BernoulliNB()\n",
    "\n",
    "steps = [\n",
    "    ('vec', vec),\n",
    "    ('trans', trans),\n",
    "    ('clust', clust),\n",
    "    ('mod', mod)\n",
    "]\n",
    "\n",
    "pln = Pipeline(steps=steps)\n",
    "\n",
    "param_grid = {\n",
    "    'vec__ngram_range': [(1,1), (1,2)],\n",
    "    'vec__min_df': [3],\n",
    "    'vec__max_df': [.5, .9],\n",
    "    'trans__n_components': range(2, 76, 2),\n",
    "    'clust__n_clusters': range(2, 20, 2),\n",
    "    'mod__alpha': [1]\n",
    "}\n",
    "\n",
    "srch = GridSearchCV(pln, param_grid=param_grid, verbose=2, n_jobs=-1)"
   ]
  },
  {
   "cell_type": "code",
   "execution_count": null,
   "metadata": {},
   "outputs": [],
   "source": [
    "srch.fit(train.lemmas, train.author)\n",
    "srch.best_score_"
   ]
  },
  {
   "cell_type": "code",
   "execution_count": null,
   "metadata": {},
   "outputs": [],
   "source": [
    "srch.best_params_"
   ]
  },
  {
   "cell_type": "code",
   "execution_count": null,
   "metadata": {},
   "outputs": [],
   "source": [
    "gc.collect()"
   ]
  },
  {
   "cell_type": "code",
   "execution_count": null,
   "metadata": {
    "collapsed": true
   },
   "outputs": [],
   "source": []
  }
 ],
 "metadata": {
  "anaconda-cloud": {},
  "kernelspec": {
   "display_name": "Environment (conda_dspy3)",
   "language": "python",
   "name": "conda_dspy3"
  },
  "language_info": {
   "codemirror_mode": {
    "name": "ipython",
    "version": 3
   },
   "file_extension": ".py",
   "mimetype": "text/x-python",
   "name": "python",
   "nbconvert_exporter": "python",
   "pygments_lexer": "ipython3",
   "version": "3.6.2"
  }
 },
 "nbformat": 4,
 "nbformat_minor": 2
}
