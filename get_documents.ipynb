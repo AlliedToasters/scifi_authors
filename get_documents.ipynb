{
 "cells": [
  {
   "cell_type": "markdown",
   "metadata": {},
   "source": [
    "## Generating Science Fiction Dataset\n",
    "This is the script I use to generate the dataset I used in <a href=''>my unsupervised learning capstone project</a>. Some works are divided into chapters marked by roman numerals and newlines, but the works are not all consistent. I manually added roman numeral dividers to some of the documents to make this script work. I chose roman numerals because some documents are already organized this way, and it's a simple way to create a unique and easy-to-match string ('\\n[numeral]\\n') while avoiding confusion with other pieces of the text."
   ]
  },
  {
   "cell_type": "code",
   "execution_count": 1,
   "metadata": {
    "collapsed": true
   },
   "outputs": [],
   "source": [
    "import pandas as pd\n",
    "import numpy as np\n",
    "import nltk\n",
    "import matplotlib.pyplot as plt"
   ]
  },
  {
   "cell_type": "code",
   "execution_count": 2,
   "metadata": {
    "collapsed": true
   },
   "outputs": [],
   "source": [
    "#These paths are local to my computer so unfortunately you can't run this script yourself.\n",
    "authors = {\n",
    "    'asimov': ['./asimov/youth.txt', './asimov/nuclear_energy_3.txt'],\n",
    "    'bradbury': ['./bradbury/a_little_journey.txt', './bradbury/futuria.txt'],\n",
    "    'dick': ['./dick/mrspaceship.txt', './dick/variableman.txt'],\n",
    "    'herbert': ['./herbert/haystack.txt', './herbert/old_rambling_house.txt'],\n",
    "    'pohl': ['./pohl/skysearch.txt', './pohl/tunnel.txt'],\n",
    "    'reynolds': ['./reynolds/off_course.txt', './reynolds/spaceman_spree.txt'],\n",
    "    'rockwell': ['./rockwell/space_pirates.txt', './rockwell/venus_revolt.txt'],\n",
    "    'verne': ['./verne/20000leagues.txt', './verne/moon_journey.txt'],\n",
    "    'vonnegut': ['./vonnegut/2BR02B.txt', './vonnegut/trip_up_yonder.txt'],\n",
    "    'wells': ['./wells/discovery_future.txt', './wells/moon_men.txt']\n",
    "}"
   ]
  },
  {
   "cell_type": "code",
   "execution_count": 3,
   "metadata": {
    "collapsed": true
   },
   "outputs": [],
   "source": [
    "documents = []\n",
    "for auth in authors:\n",
    "    for work in authors[auth]:\n",
    "        documents.append(work.split('./'+auth+'/')[1])\n",
    "        documents[-1] = documents[-1].split('.txt')[0]"
   ]
  },
  {
   "cell_type": "code",
   "execution_count": 4,
   "metadata": {
    "collapsed": true
   },
   "outputs": [],
   "source": [
    "date = {}\n",
    "for doc in documents:\n",
    "    date[doc] = 0\n",
    "    \n",
    "date['discovery_future'] = 1913\n",
    "date['moon_men'] = 1901\n",
    "date['youth'] = 1952\n",
    "date['nuclear_energy_3'] = 1972\n",
    "date['a_little_journey'] = 1951\n",
    "date['futuria'] = 1940\n",
    "date['mrspaceship'] = 1953\n",
    "date['variableman'] = 1953\n",
    "date['haystack'] = 1959\n",
    "date['old_rambling_house'] = 1958\n",
    "date['skysearch'] = 1954\n",
    "date['tunnel'] = 1955\n",
    "date['off_course'] = 1954\n",
    "date['spaceman_spree'] = 1963\n",
    "date['space_pirates'] = 1953\n",
    "date['venus_revolt'] = 1954\n",
    "date['20000leagues'] = 1870\n",
    "date['moon_journey'] = 1865\n",
    "date['2BR02B'] = 1962\n",
    "date['trip_up_yonder'] = 1953"
   ]
  },
  {
   "cell_type": "code",
   "execution_count": 5,
   "metadata": {
    "collapsed": true
   },
   "outputs": [],
   "source": [
    "fiction = {}\n",
    "for doc in documents:\n",
    "    if doc == 'nuclear_energy_3' or doc == 'discovery_future':\n",
    "        fiction[doc] = 0\n",
    "    else:\n",
    "        fiction[doc] = 1"
   ]
  },
  {
   "cell_type": "code",
   "execution_count": 6,
   "metadata": {
    "collapsed": true
   },
   "outputs": [],
   "source": [
    "num = {}\n",
    "for doc in documents:\n",
    "    num[doc] = 5\n",
    "    \n",
    "num['2BR02B'] = 2\n",
    "num['trip_up_yonder'] = 4\n",
    "num['a_little_journey'] = 3\n",
    "num['futuria'] = 7\n",
    "num['off_course'] = 3\n",
    "num['spaceman_spree'] = 7\n",
    "num['old_rambling_house'] = 3\n",
    "num['nuclear_energy_3'] = 6\n",
    "num['haystack'] = 7\n",
    "num['moon_men'] = 5\n",
    "num['discovery_future'] = 6\n",
    "num['20000leagues'] = 6\n",
    "num['tunnel'] = 6"
   ]
  },
  {
   "cell_type": "code",
   "execution_count": 7,
   "metadata": {
    "collapsed": true
   },
   "outputs": [],
   "source": [
    "def get_text(document):\n",
    "    cut = document.split('*** START OF THIS PROJECT GUTENBERG')[1]\n",
    "    result = cut.split('*** END OF THIS PROJECT GUTENBERG')[0]\n",
    "    return result"
   ]
  },
  {
   "cell_type": "code",
   "execution_count": 8,
   "metadata": {
    "collapsed": true
   },
   "outputs": [],
   "source": [
    "def roman_numeral(number):\n",
    "    \"\"\"Takes an integer and returns a string with roman numeral\n",
    "    form of integer. Works up to value of 39 for now.\n",
    "    \"\"\"\n",
    "    base = 'X'*(number//10)\n",
    "    if number%10 < 4:\n",
    "        base += 'I'*(number%10)\n",
    "    elif number%10 == 4:\n",
    "        base += 'IV'\n",
    "    elif 5 <= number%10 < 9:\n",
    "        base += 'V' + 'I'*(number%10-5)\n",
    "    elif number%10 == 9:\n",
    "        base = 'IX' + base\n",
    "    return base\n",
    "\n",
    "def get_chapters(document, n_chapters=10):\n",
    "    result = []\n",
    "    doc = document\n",
    "    for number in range(1, n_chapters+1):\n",
    "        result.append(doc.split('\\n'+roman_numeral(number)+'\\n')[1].split('\\n'+roman_numeral(number+1)+'\\n')[0])\n",
    "    return result\n",
    "        "
   ]
  },
  {
   "cell_type": "code",
   "execution_count": 9,
   "metadata": {},
   "outputs": [
    {
     "data": {
      "text/html": [
       "<div>\n",
       "<style>\n",
       "    .dataframe thead tr:only-child th {\n",
       "        text-align: right;\n",
       "    }\n",
       "\n",
       "    .dataframe thead th {\n",
       "        text-align: left;\n",
       "    }\n",
       "\n",
       "    .dataframe tbody tr th {\n",
       "        vertical-align: top;\n",
       "    }\n",
       "</style>\n",
       "<table border=\"1\" class=\"dataframe\">\n",
       "  <thead>\n",
       "    <tr style=\"text-align: right;\">\n",
       "      <th></th>\n",
       "      <th>text</th>\n",
       "      <th>title</th>\n",
       "      <th>author</th>\n",
       "      <th>date</th>\n",
       "      <th>fiction</th>\n",
       "    </tr>\n",
       "  </thead>\n",
       "  <tbody>\n",
       "    <tr>\n",
       "      <th>0</th>\n",
       "      <td>\\n    Red and Slim found the two strange littl...</td>\n",
       "      <td>youth</td>\n",
       "      <td>asimov</td>\n",
       "      <td>1952</td>\n",
       "      <td>1</td>\n",
       "    </tr>\n",
       "    <tr>\n",
       "      <th>1</th>\n",
       "      <td>\\nThe Astronomer entered the dining room with ...</td>\n",
       "      <td>youth</td>\n",
       "      <td>asimov</td>\n",
       "      <td>1952</td>\n",
       "      <td>1</td>\n",
       "    </tr>\n",
       "    <tr>\n",
       "      <th>2</th>\n",
       "      <td>\\nThe swaying had come to a halt and it was da...</td>\n",
       "      <td>youth</td>\n",
       "      <td>asimov</td>\n",
       "      <td>1952</td>\n",
       "      <td>1</td>\n",
       "    </tr>\n",
       "    <tr>\n",
       "      <th>3</th>\n",
       "      <td>\\nThe Merchant was awake too and his steady sc...</td>\n",
       "      <td>youth</td>\n",
       "      <td>asimov</td>\n",
       "      <td>1952</td>\n",
       "      <td>1</td>\n",
       "    </tr>\n",
       "    <tr>\n",
       "      <th>4</th>\n",
       "      <td>\\nThe Astronomer said, \"You think the noise wa...</td>\n",
       "      <td>youth</td>\n",
       "      <td>asimov</td>\n",
       "      <td>1952</td>\n",
       "      <td>1</td>\n",
       "    </tr>\n",
       "  </tbody>\n",
       "</table>\n",
       "</div>"
      ],
      "text/plain": [
       "                                                text  title  author  date  \\\n",
       "0  \\n    Red and Slim found the two strange littl...  youth  asimov  1952   \n",
       "1  \\nThe Astronomer entered the dining room with ...  youth  asimov  1952   \n",
       "2  \\nThe swaying had come to a halt and it was da...  youth  asimov  1952   \n",
       "3  \\nThe Merchant was awake too and his steady sc...  youth  asimov  1952   \n",
       "4  \\nThe Astronomer said, \"You think the noise wa...  youth  asimov  1952   \n",
       "\n",
       "  fiction  \n",
       "0       1  \n",
       "1       1  \n",
       "2       1  \n",
       "3       1  \n",
       "4       1  "
      ]
     },
     "execution_count": 9,
     "metadata": {},
     "output_type": "execute_result"
    }
   ],
   "source": [
    "df = pd.DataFrame(columns=['text', 'title', 'author', 'date', 'fiction'])\n",
    "for auth in authors:\n",
    "    for i in range(0, 2):\n",
    "        path = authors[auth][i]\n",
    "        tit = path.split('./'+auth+'/')[1].split('.txt')[0]\n",
    "        work = open(path).read()\n",
    "        chapters = get_chapters(work, n_chapters=num[tit])\n",
    "        for chapter in chapters:\n",
    "            next_row = pd.DataFrame(columns=df.columns, index=[len(df)])\n",
    "            next_row['text'] = chapter\n",
    "            next_row['title'] = tit\n",
    "            next_row['author'] = auth\n",
    "            next_row['date'] = date[tit]\n",
    "            next_row['fiction'] = fiction[tit]\n",
    "            df = pd.concat([df, next_row], axis=0)\n",
    "            \n",
    "df.head()"
   ]
  },
  {
   "cell_type": "code",
   "execution_count": 10,
   "metadata": {
    "collapsed": true
   },
   "outputs": [],
   "source": [
    "df.to_csv('chapters.csv', index=False)"
   ]
  }
 ],
 "metadata": {
  "anaconda-cloud": {},
  "kernelspec": {
   "display_name": "Environment (conda_dspy3)",
   "language": "python",
   "name": "conda_dspy3"
  },
  "language_info": {
   "codemirror_mode": {
    "name": "ipython",
    "version": 3
   },
   "file_extension": ".py",
   "mimetype": "text/x-python",
   "name": "python",
   "nbconvert_exporter": "python",
   "pygments_lexer": "ipython3",
   "version": "3.6.2"
  }
 },
 "nbformat": 4,
 "nbformat_minor": 2
}
