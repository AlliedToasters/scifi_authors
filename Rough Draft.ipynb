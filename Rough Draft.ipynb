{
 "cells": [
  {
   "cell_type": "markdown",
   "metadata": {},
   "source": [
    "## Unsupervised Capstone Rough Draft\n",
    "This is a rough draft of my write up for the unit 4 capstone project. The data consists of excerpts, mostly chapters, of science fiction novels, novellas and short stories by the following authors:\n",
    " - Isaac Asimov\n",
    " - Kurt Vonnegut\n",
    " - H.G. Wells\n",
    " - Ray Bradbury\n",
    " - Philip K. Dick\n",
    " - Frank Patrick Herbert\n",
    " - Frederik Pohl\n",
    " - Mack Reynolds\n",
    " - Carey Rockwell\n",
    " - Jules Verne\n",
    "<br><br>\n",
    "\n",
    "The works are all eBooks provided by Project Gutenburg, and I must include the following text as is required by their license:<br><br>\n",
    ">This eBook is for the use of anyone anywhere in the United States and\n",
    ">most other parts of the world at no cost and with almost no\n",
    ">restrictions whatsoever. You may copy it, give it away or re-use it\n",
    ">under the terms of the Project Gutenberg License included with this\n",
    ">eBook or online at www.gutenberg.org. If you are not located in the\n",
    ">United States, you'll have to check the laws of the country where you\n",
    ">are located before using this ebook.\n",
    " \n",
    "<br><br>\n",
    "The goal of this project is to use clustering to build features on the dataset. I use these clusters to build a predictive model that can predict authors from the texts."
   ]
  },
  {
   "cell_type": "code",
   "execution_count": 1,
   "metadata": {
    "collapsed": true
   },
   "outputs": [],
   "source": [
    "import pandas as pd\n",
    "import numpy as np\n",
    "import matplotlib.pyplot as plt\n",
    "from matplotlib.markers import MarkerStyle\n",
    "from matplotlib.colors import Colormap\n",
    "import matplotlib.lines as mlines\n",
    "import matplotlib.patches as mpatches\n",
    "from matplotlib import cm\n",
    "from cycler import cycler\n",
    "from sklearn.feature_extraction.text import TfidfVectorizer\n",
    "import spacy\n",
    "from sklearn.decomposition import TruncatedSVD\n",
    "from sklearn.preprocessing import Normalizer\n",
    "from sklearn.cluster import AffinityPropagation\n",
    "from sklearn.pipeline import make_pipeline\n",
    "from sklearn.manifold import TSNE\n",
    "from sklearn import metrics\n",
    "from sklearn.tree import DecisionTreeClassifier\n",
    "import gc\n",
    "%matplotlib inline"
   ]
  },
  {
   "cell_type": "markdown",
   "metadata": {},
   "source": [
    "## The Data\n",
    "This dataset contains 100 samples from the ten authors listed above. The excerpts all come from one of two works by each of the authors. They vary in length from over 600 words to under 1400 words."
   ]
  },
  {
   "cell_type": "code",
   "execution_count": 2,
   "metadata": {},
   "outputs": [
    {
     "data": {
      "image/png": "[encoded data removed]",
      "text/plain": [
       "<matplotlib.figure.Figure at 0x7fdf2740f860>"
      ]
     },
     "metadata": {},
     "output_type": "display_data"
    }
   ],
   "source": [
    "df = pd.read_csv('docs.csv').sample(frac=1, random_state=0) #load dataset and shuffle rows\n",
    "df.index = range(0, 100) #reindex\n",
    "df.length.hist();\n",
    "plt.title('Excerpt Length Distribution');\n",
    "plt.xlabel('Length (Words)');\n",
    "plt.ylabel('Number of Samples');\n",
    "plt.show();"
   ]
  },
  {
   "cell_type": "markdown",
   "metadata": {},
   "source": [
    "Each author has roughly ten examples, except for Vonnegut. Because he only has two short stories under the open distribution license, I could only grab six excerpts long enough to compare to the others."
   ]
  },
  {
   "cell_type": "code",
   "execution_count": 3,
   "metadata": {},
   "outputs": [
    {
     "data": {
      "text/plain": [
       "wells       11\n",
       "pohl        11\n",
       "asimov      11\n",
       "verne       11\n",
       "bradbury    10\n",
       "reynolds    10\n",
       "dick        10\n",
       "rockwell    10\n",
       "herbert     10\n",
       "vonnegut     6\n",
       "Name: author, dtype: int64"
      ]
     },
     "execution_count": 3,
     "metadata": {},
     "output_type": "execute_result"
    }
   ],
   "source": [
    "df.author.value_counts()"
   ]
  },
  {
   "cell_type": "markdown",
   "metadata": {},
   "source": [
    "This smaller sample size may have something to do with a problem I have classifying his work later on. <br> The excerpts come with some tags; the title of the source text, the author last name, the date of publication, whether the text is fiction (two non-fiction works are <I>Worlds within Worlds</I> by Asimov and <I>Discovery of the Future</I> by H.G. Wells, both of which discuss the technological implications of then-current scientific developments)"
   ]
  },
  {
   "cell_type": "code",
   "execution_count": 4,
   "metadata": {},
   "outputs": [
    {
     "data": {
      "text/html": [
       "<div>\n",
       "<style>\n",
       "    .dataframe thead tr:only-child th {\n",
       "        text-align: right;\n",
       "    }\n",
       "\n",
       "    .dataframe thead th {\n",
       "        text-align: left;\n",
       "    }\n",
       "\n",
       "    .dataframe tbody tr th {\n",
       "        vertical-align: top;\n",
       "    }\n",
       "</style>\n",
       "<table border=\"1\" class=\"dataframe\">\n",
       "  <thead>\n",
       "    <tr style=\"text-align: right;\">\n",
       "      <th></th>\n",
       "      <th>text</th>\n",
       "      <th>title</th>\n",
       "      <th>author</th>\n",
       "      <th>date</th>\n",
       "      <th>fiction</th>\n",
       "      <th>length</th>\n",
       "    </tr>\n",
       "  </thead>\n",
       "  <tbody>\n",
       "    <tr>\n",
       "      <th>0</th>\n",
       "      <td>\\n    He fixed things--clocks, refrigerators, ...</td>\n",
       "      <td>variableman</td>\n",
       "      <td>dick</td>\n",
       "      <td>1953</td>\n",
       "      <td>1</td>\n",
       "      <td>1106</td>\n",
       "    </tr>\n",
       "    <tr>\n",
       "      <th>1</th>\n",
       "      <td>\\nGramps missed none of the high drama he had ...</td>\n",
       "      <td>trip_up_yonder</td>\n",
       "      <td>vonnegut</td>\n",
       "      <td>1953</td>\n",
       "      <td>1</td>\n",
       "      <td>880</td>\n",
       "    </tr>\n",
       "    <tr>\n",
       "      <th>2</th>\n",
       "      <td>\\nThe swaying had come to a halt and it was da...</td>\n",
       "      <td>youth</td>\n",
       "      <td>asimov</td>\n",
       "      <td>1952</td>\n",
       "      <td>1</td>\n",
       "      <td>1155</td>\n",
       "    </tr>\n",
       "    <tr>\n",
       "      <th>3</th>\n",
       "      <td>\\nThey gave him a gold watch. It was meant to ...</td>\n",
       "      <td>spaceman_spree</td>\n",
       "      <td>reynolds</td>\n",
       "      <td>1963</td>\n",
       "      <td>1</td>\n",
       "      <td>758</td>\n",
       "    </tr>\n",
       "    <tr>\n",
       "      <th>4</th>\n",
       "      <td>\\n\"Conseil,\" I called in an impatient voice.\\n...</td>\n",
       "      <td>20000leagues</td>\n",
       "      <td>verne</td>\n",
       "      <td>1870</td>\n",
       "      <td>1</td>\n",
       "      <td>801</td>\n",
       "    </tr>\n",
       "  </tbody>\n",
       "</table>\n",
       "</div>"
      ],
      "text/plain": [
       "                                                text           title  \\\n",
       "0  \\n    He fixed things--clocks, refrigerators, ...     variableman   \n",
       "1  \\nGramps missed none of the high drama he had ...  trip_up_yonder   \n",
       "2  \\nThe swaying had come to a halt and it was da...           youth   \n",
       "3  \\nThey gave him a gold watch. It was meant to ...  spaceman_spree   \n",
       "4  \\n\"Conseil,\" I called in an impatient voice.\\n...    20000leagues   \n",
       "\n",
       "     author  date  fiction  length  \n",
       "0      dick  1953        1    1106  \n",
       "1  vonnegut  1953        1     880  \n",
       "2    asimov  1952        1    1155  \n",
       "3  reynolds  1963        1     758  \n",
       "4     verne  1870        1     801  "
      ]
     },
     "execution_count": 4,
     "metadata": {},
     "output_type": "execute_result"
    }
   ],
   "source": [
    "df.head() #A peek at the data"
   ]
  },
  {
   "cell_type": "markdown",
   "metadata": {},
   "source": [
    "# Holdout Group\n",
    "I reserve 25% of the data as a holdout group. "
   ]
  },
  {
   "cell_type": "code",
   "execution_count": 5,
   "metadata": {},
   "outputs": [
    {
     "data": {
      "text/plain": [
       "asimov      10\n",
       "wells        9\n",
       "reynolds     9\n",
       "bradbury     8\n",
       "pohl         8\n",
       "dick         8\n",
       "verne        8\n",
       "herbert      7\n",
       "rockwell     5\n",
       "vonnegut     3\n",
       "Name: author, dtype: int64"
      ]
     },
     "execution_count": 5,
     "metadata": {},
     "output_type": "execute_result"
    }
   ],
   "source": [
    "#Reserve holdout group\n",
    "train = df.loc[:74].copy() #train group\n",
    "test = df.loc[75:].copy() #holdout group\n",
    "train.author.value_counts()"
   ]
  },
  {
   "cell_type": "markdown",
   "metadata": {},
   "source": [
    "Note that the training group includes only three samples for Kurt Vonnegut."
   ]
  },
  {
   "cell_type": "markdown",
   "metadata": {},
   "source": [
    "## Parsing and LSA"
   ]
  },
  {
   "cell_type": "code",
   "execution_count": 6,
   "metadata": {
    "collapsed": true
   },
   "outputs": [],
   "source": [
    "def get_lemmas(document):\n",
    "    \"\"\"takes raw spacy parse and returns only\n",
    "    word lemmas, in or out of vocab.\n",
    "    \"\"\"\n",
    "    result = ''\n",
    "    for token in document:\n",
    "        if not token.is_space and not token.is_punct and not (token.lemma_ == '-PRON-'):\n",
    "            result += token.lemma_ + ' '\n",
    "        elif token.lemma_ == '-PRON-':\n",
    "            result += token.orth_ + ' '\n",
    "    return result"
   ]
  },
  {
   "cell_type": "code",
   "execution_count": 7,
   "metadata": {},
   "outputs": [],
   "source": [
    "prs = spacy.load('en')\n",
    "train['raw_parse'] = train.text.apply(prs)\n",
    "train['lemmas'] = train.raw_parse.apply(get_lemmas)\n",
    "vec = TfidfVectorizer(stop_words='english', min_df=2, max_df=.99, ngram_range=(1, 3))\n",
    "svd = TruncatedSVD(n_components=74, random_state=0, algorithm='arpack')\n",
    "norm = Normalizer(copy=False)\n",
    "lsa = make_pipeline(svd, norm)\n",
    "raw_vec_train = vec.fit_transform(train.lemmas)\n",
    "train_mat = lsa.fit_transform(raw_vec_train)"
   ]
  },
  {
   "cell_type": "markdown",
   "metadata": {},
   "source": [
    "## Clustering with Affinity Propagation\n",
    "Affinity Propagation does a great job of clustering the documents by their source texts. I used K-Means, Mean Shift, and Spectral Clustering as well, but Affinity Propagation groups the samples by authors almost perfectly. It actually tends to group the samples by source text, which works well enough for the task of classifying texts by authors. I used the Adjusted Rand Index to find the best clustering technique."
   ]
  },
  {
   "cell_type": "code",
   "execution_count": 8,
   "metadata": {
    "collapsed": true
   },
   "outputs": [],
   "source": [
    "#Encode the authors and the source texts for cluster evaluation\n",
    "author_encoding = {}\n",
    "code = iter(range(0, len(df.author.unique())))\n",
    "for auth in df.author.unique():\n",
    "    author_encoding[auth] = next(code)\n",
    "    \n",
    "train['author_code'] = train.author.apply(lambda x: author_encoding[x])\n",
    "test['author_code'] = test.author.apply(lambda x: author_encoding[x])\n",
    "\n",
    "title_encoding = {}\n",
    "code = iter(range(0, len(df.title.unique())))\n",
    "for tit in df.title.unique():\n",
    "    title_encoding[tit] = next(code)\n",
    "    \n",
    "train['title_code'] = train.title.apply(lambda x: title_encoding[x])\n",
    "test['title_code'] = test.title.apply(lambda x: title_encoding[x])"
   ]
  },
  {
   "cell_type": "code",
   "execution_count": 9,
   "metadata": {},
   "outputs": [
    {
     "name": "stdout",
     "output_type": "stream",
     "text": [
      "number of clusters:  19\n",
      "Homogeneity: 0.976\n",
      "Completeness: 0.981\n",
      "V-measure: 0.978\n",
      "Adjusted Rand-Index: 0.927\n",
      "Silhouette Coefficient: 0.179\n"
     ]
    }
   ],
   "source": [
    "trans = vec.fit_transform(train.lemmas)\n",
    "train_mat = lsa.fit_transform(trans)\n",
    "ap = AffinityPropagation()\n",
    "np.unique(ap.fit_predict(train_mat))\n",
    "labels = train.title_code #Setting the labels to the text titles to show clustering around source texts.\n",
    "print('number of clusters: ', len(ap.cluster_centers_))\n",
    "print(\"Homogeneity: %0.3f\" % metrics.homogeneity_score(labels, ap.labels_))\n",
    "print(\"Completeness: %0.3f\" % metrics.completeness_score(labels, ap.labels_))\n",
    "print(\"V-measure: %0.3f\" % metrics.v_measure_score(labels, ap.labels_))\n",
    "print(\"Adjusted Rand-Index: %.3f\"\n",
    "      % metrics.adjusted_rand_score(labels, ap.labels_))\n",
    "print(\"Silhouette Coefficient: %0.3f\"\n",
    "      % metrics.silhouette_score(train_mat, ap.labels_, sample_size=-1))"
   ]
  },
  {
   "cell_type": "markdown",
   "metadata": {},
   "source": [
    "## Characterizing the Clusters\n",
    "While homogeneity and completeness of the clusters against source texts is very high, the cluster groupings in terms of source text is not perfect. This is made clear by the fact that there are 19 clusters and 20 source texts. I define each cluster by the source texts and authors that appear in each."
   ]
  },
  {
   "cell_type": "code",
   "execution_count": 10,
   "metadata": {},
   "outputs": [
    {
     "name": "stdout",
     "output_type": "stream",
     "text": [
      "cluster  0 authors:  ['dick'] source texts:  ['variableman']\n",
      "cluster  1 authors:  ['reynolds'] source texts:  ['spaceman_spree']\n",
      "cluster  2 authors:  ['reynolds'] source texts:  ['off_course']\n",
      "cluster  3 authors:  ['asimov'] source texts:  ['nuclear_energy_3']\n",
      "cluster  4 authors:  ['dick'] source texts:  ['mrspaceship']\n",
      "cluster  5 authors:  ['herbert'] source texts:  ['haystack']\n",
      "cluster  6 authors:  ['asimov'] source texts:  ['youth']\n",
      "cluster  7 authors:  ['rockwell'] source texts:  ['space_pirates', 'venus_revolt']\n",
      "cluster  8 authors:  ['verne'] source texts:  ['20000leagues']\n",
      "cluster  9 authors:  ['pohl'] source texts:  ['skysearch']\n",
      "cluster  10 authors:  ['bradbury'] source texts:  ['futuria']\n",
      "cluster  11 authors:  ['bradbury'] source texts:  ['futuria']\n",
      "cluster  12 authors:  ['herbert'] source texts:  ['old_rambling_house']\n",
      "cluster  13 authors:  ['wells'] source texts:  ['discovery_future']\n",
      "cluster  14 authors:  ['bradbury'] source texts:  ['a_little_journey']\n",
      "cluster  15 authors:  ['verne'] source texts:  ['moon_journey']\n",
      "cluster  16 authors:  ['vonnegut'] source texts:  ['trip_up_yonder', '2BR02B']\n",
      "cluster  17 authors:  ['pohl'] source texts:  ['tunnel']\n",
      "cluster  18 authors:  ['wells'] source texts:  ['moon_men']\n"
     ]
    }
   ],
   "source": [
    "train['ap_cluster'] = ap.predict(train_mat) #record cluster assignments for training group\n",
    "clusters = {}\n",
    "for clust in train.ap_cluster.unique():\n",
    "    clusters[clust] = (\n",
    "        list(train[train.ap_cluster==clust].author.unique()), \n",
    "        list(train[train.ap_cluster==clust].title.unique()),\n",
    "    )\n",
    "\n",
    "authors = {}\n",
    "for auth in train.author.unique():\n",
    "    authors[auth] = train[train.author==auth].ap_cluster.unique()\n",
    "    \n",
    "for clust in range(0, len(clusters)):\n",
    "    print('cluster ', clust, 'authors: ', clusters[clust][0], 'source texts: ', clusters[clust][1])"
   ]
  },
  {
   "cell_type": "markdown",
   "metadata": {},
   "source": [
    "Every cluster belongs to just one author. Clusters 7 and 16 include chapters from different source texts by the same author, and clusters 10 and 11 both include chapters from the same source text, Futuria by Bradbury.<br><br>\n",
    "## Visualizing the Clusters\n",
    "I use the t-SNE algorithm to visualize the clusters in two dimensions. In the following plot, authors are represented by colors and clusters are represented by shapes. Most authors have two clusters but some have only one while others have three. Thus, I've given an ordered set of shapes to represent the clusters. The order doesn't matter except to denote the number of clusters an author has."
   ]
  },
  {
   "cell_type": "code",
   "execution_count": 11,
   "metadata": {},
   "outputs": [
    {
     "data": {
      "image/png": "[encoded data removed]",
      "text/plain": [
       "<matplotlib.figure.Figure at 0x7fdf270c16a0>"
      ]
     },
     "metadata": {},
     "output_type": "display_data"
    }
   ],
   "source": [
    "tsne = TSNE(\n",
    "    n_components=2, \n",
    "    init='pca', \n",
    "    random_state=0, \n",
    "    method='exact', \n",
    "    early_exaggeration=200, \n",
    "    learning_rate=200,\n",
    "    n_iter=10000\n",
    ")\n",
    "ts = tsne.fit_transform(train_mat)\n",
    "fig, ax = plt.subplots(figsize=(8, 8));\n",
    "train['ts1'] = ts[:,0]\n",
    "train['ts2'] = ts[:,1]\n",
    "handles = []\n",
    "color = 0\n",
    "for auth in authors:\n",
    "    dframe = train[train.author==auth]\n",
    "    col = cm.tab10(color)\n",
    "    handles.append(mpatches.Patch(color=col, label=auth));\n",
    "    color += 1\n",
    "    styles = iter(['o', 'x', 'v'])\n",
    "    for clust in dframe.ap_cluster.unique():\n",
    "        plt.scatter(\n",
    "            dframe[dframe.ap_cluster==clust].ts1, \n",
    "            dframe[dframe.ap_cluster==clust].ts2, \n",
    "            color=col, \n",
    "            marker=next(styles),\n",
    "            s=100\n",
    "        )\n",
    "handles.append(mlines.Line2D([], [], color='black', marker='o', linewidth=0, label='first cluster', markersize=11))\n",
    "handles.append(mlines.Line2D([], [], color='black', marker='x', linewidth=0, label='second cluster', markersize=11))\n",
    "handles.append(mlines.Line2D([], [], color='black', marker='v', linewidth=0, label='third cluster', markersize=10))\n",
    "plt.legend(handles=(handles), bbox_to_anchor=(1.1, 1));\n",
    "plt.title('Dimension-reduced Cluster Visualization');\n",
    "ax.set_xticks([]);\n",
    "ax.set_yticks([]);\n",
    "plt.show();"
   ]
  },
  {
   "cell_type": "markdown",
   "metadata": {},
   "source": [
    "While most authors' clusters are located close to each other, some are seperated by a number of other samples. Asimov, for example, has one cluster on the far left and another to the lower right side of the center of the plot. This specific case might be explained by the fact that one of Asimov's works is non-fiction, and the other is fiction. Take a look at the closeness of the nonfiction clusters on the t-SNE reduction."
   ]
  },
  {
   "cell_type": "code",
   "execution_count": 12,
   "metadata": {},
   "outputs": [
    {
     "data": {
      "image/png": "[encoded data removed]",
      "text/plain": [
       "<matplotlib.figure.Figure at 0x7fdf270d3f60>"
      ]
     },
     "metadata": {},
     "output_type": "display_data"
    }
   ],
   "source": [
    "fig, ax = plt.subplots(figsize=(8, 8));\n",
    "c1 = cm.tab10(0)\n",
    "c2 = cm.tab10(5)\n",
    "colors = iter([c1, c2])\n",
    "for genre in train.fiction.unique():\n",
    "    dframe = train[train.fiction==genre]\n",
    "    plt.scatter(dframe.ts1, dframe.ts2, c=next(colors), s=100);\n",
    "        \n",
    "handles = []\n",
    "handles.append(mpatches.Patch(color=cm.tab10(0), label='fiction'))\n",
    "handles.append(mpatches.Patch(color=cm.tab10(5), label='nonfiction'))\n",
    "plt.title('Dimension-reduced Cluster Visualization');\n",
    "plt.legend(handles=handles);\n",
    "ax.set_xticks([]);\n",
    "ax.set_yticks([]);\n",
    "plt.show();"
   ]
  },
  {
   "cell_type": "markdown",
   "metadata": {},
   "source": [
    "## Cluster Stability\n",
    "To investigate the stability of these clusters, I use the same parsing and LSA process to assign clusters to the holdout group samples."
   ]
  },
  {
   "cell_type": "code",
   "execution_count": 13,
   "metadata": {
    "collapsed": true
   },
   "outputs": [],
   "source": [
    "#Process text in holdout group\n",
    "test['raw_parse'] = test.text.apply(prs)\n",
    "test['lemmas'] = test.raw_parse.apply(get_lemmas)\n",
    "trans = vec.transform(test.lemmas)\n",
    "test_mat = lsa.transform(trans)"
   ]
  },
  {
   "cell_type": "code",
   "execution_count": 14,
   "metadata": {
    "collapsed": true
   },
   "outputs": [],
   "source": [
    "test['ap_cluster'] = ap.predict(test_mat) #get assignments for holdout group\n",
    "train['is_holdout'] = 0\n",
    "test['is_holdout'] = 1\n",
    "df = pd.concat([train, test], axis=0)   #Add cluster assignments to original dataframe.\n",
    "all_pc = np.concatenate([train_mat, test_mat], axis=0) #Concatenate LSA features from training and holdout groups."
   ]
  },
  {
   "cell_type": "markdown",
   "metadata": {},
   "source": [
    "Let's see where the holdout samples land compared to the others"
   ]
  },
  {
   "cell_type": "code",
   "execution_count": 15,
   "metadata": {},
   "outputs": [
    {
     "data": {
      "image/png": "[encoded data removed]",
      "text/plain": [
       "<matplotlib.figure.Figure at 0x7fdeeb68b828>"
      ]
     },
     "metadata": {},
     "output_type": "display_data"
    }
   ],
   "source": [
    "ts = tsne.fit_transform(all_pc)\n",
    "fig, ax = plt.subplots(figsize=(8, 8));\n",
    "df['ts1'] = ts[:,0]\n",
    "df['ts2'] = ts[:,1]\n",
    "handles = []\n",
    "color = 0\n",
    "for auth in authors:\n",
    "    dframe = df[df.author==auth]\n",
    "    col = cm.tab10(color)\n",
    "    handles.append(mpatches.Patch(color=col, label=auth));\n",
    "    color += 1\n",
    "    styles = iter(['o', 'x', 'v'])\n",
    "    for group in dframe.is_holdout.unique():\n",
    "        plt.scatter(\n",
    "            dframe[dframe.is_holdout==group].ts1, \n",
    "            dframe[dframe.is_holdout==group].ts2, \n",
    "            color=col, \n",
    "            marker=next(styles),\n",
    "            s=100\n",
    "        )\n",
    "handles.append(mlines.Line2D([], [], color='black', marker='o', linewidth=0, label='train group', markersize=11))\n",
    "handles.append(mlines.Line2D([], [], color='black', marker='x', linewidth=0, label='holdout group', markersize=11))\n",
    "plt.legend(handles=(handles), bbox_to_anchor=(1.3, 1));\n",
    "plt.title('Dimension-reduced Cluster Visualization');\n",
    "ax.set_xticks([]);\n",
    "ax.set_yticks([]);\n",
    "plt.show();"
   ]
  },
  {
   "cell_type": "markdown",
   "metadata": {},
   "source": [
    "I check to see if the holdout group clustering assignments deviate from our previous cluster definition."
   ]
  },
  {
   "cell_type": "code",
   "execution_count": 16,
   "metadata": {},
   "outputs": [
    {
     "name": "stdout",
     "output_type": "stream",
     "text": [
      "devation: author vonnegut assigned to cluster belonging to wells\n",
      "deviation occured at index:  93\n",
      "devation: title 2BR02B assigned to cluster belonging to ['moon_men']\n",
      "deviation occured at index:  93\n"
     ]
    }
   ],
   "source": [
    "deviant_assignments = []\n",
    "for i in test.index:\n",
    "    row = test.loc[i]\n",
    "    cluster = clusters[row.ap_cluster]\n",
    "    if row.author not in cluster[0]:\n",
    "        print('devation: author {} assigned to cluster belonging to {}'.format(row.author, cluster[0][0]))\n",
    "        print('deviation occured at index: ', i)\n",
    "        deviant_assignments.append(i)\n",
    "    if row.title not in cluster[1]:\n",
    "        print('devation: title {} assigned to cluster belonging to {}'.format(row.title, cluster[1]))\n",
    "        print('deviation occured at index: ', i)\n",
    "        deviant_assignments.append(i)\n",
    "        \n",
    "deviant_assignments = list(set(deviant_assignments))"
   ]
  },
  {
   "cell_type": "code",
   "execution_count": 17,
   "metadata": {},
   "outputs": [
    {
     "name": "stdout",
     "output_type": "stream",
     "text": [
      "text           \\nEverything was perfectly swell.\\n\\nThere wer...\n",
      "title                                                     2BR02B\n",
      "author                                                  vonnegut\n",
      "date                                                        1962\n",
      "fiction                                                        1\n",
      "length                                                      1152\n",
      "author_code                                                    1\n",
      "title_code                                                    19\n",
      "raw_parse      (\\n, Everything, was, perfectly, swell, ., \\n\\...\n",
      "lemmas         everything be perfectly swell there be no pris...\n",
      "ap_cluster                                                    18\n",
      "is_holdout                                                     1\n",
      "Name: 93, dtype: object\n"
     ]
    }
   ],
   "source": [
    "for i in deviant_assignments:\n",
    "    print(test.loc[i])"
   ]
  },
  {
   "cell_type": "markdown",
   "metadata": {},
   "source": [
    "The holdout group gives only one deviation from the training group clustering. It assigns a chapter from \"2BR02B\" (1962) by Vonnegut to \"The First Men in the Moon\" (1901) by H.G. Wells. These two works are notably far apart in both time and topic. This may be the result of there being few examples for Vonnegut in the training set."
   ]
  },
  {
   "cell_type": "code",
   "execution_count": 18,
   "metadata": {},
   "outputs": [
    {
     "data": {
      "text/plain": [
       "\n",
       "Everything was perfectly swell.\n",
       "\n",
       "There were no prisons, no slums, no insane asylums, no cripples, no\n",
       "poverty, no wars.\n",
       "\n",
       "All diseases were conquered. So was old age.\n",
       "\n",
       "Death, barring accidents, was an adventure for volunteers.\n",
       "\n",
       "The population of the United States was stabilized at forty-million\n",
       "souls.\n",
       "\n",
       "One bright morning in the Chicago Lying-in Hospital, a man named Edward\n",
       "K. Wehling, Jr., waited for his wife to give birth. He was the only man\n",
       "waiting. Not many people were born a day any more.\n",
       "\n",
       "Wehling was fifty-six, a mere stripling in a population whose average\n",
       "age was one hundred and twenty-nine.\n",
       "\n",
       "X-rays had revealed that his wife was going to have triplets. The\n",
       "children would be his first.\n",
       "\n",
       "Young Wehling was hunched in his chair, his head in his hand. He was so\n",
       "rumpled, so still and colorless as to be virtually invisible. His\n",
       "camouflage was perfect, since the waiting room had a disorderly and\n",
       "demoralized air, too. Chairs and ashtrays had been moved away from the\n",
       "walls. The floor was paved with spattered dropcloths.\n",
       "\n",
       "The room was being redecorated. It was being redecorated as a memorial\n",
       "to a man who had volunteered to die.\n",
       "\n",
       "A sardonic old man, about two hundred years old, sat on a stepladder,\n",
       "painting a mural he did not like. Back in the days when people aged\n",
       "visibly, his age would have been guessed at thirty-five or so. Aging had\n",
       "touched him that much before the cure for aging was found.\n",
       "\n",
       "The mural he was working on depicted a very neat garden. Men and women\n",
       "in white, doctors and nurses, turned the soil, planted seedlings,\n",
       "sprayed bugs, spread fertilizer.\n",
       "\n",
       "Men and women in purple uniforms pulled up weeds, cut down plants that\n",
       "were old and sickly, raked leaves, carried refuse to trash-burners.\n",
       "\n",
       "Never, never, never--not even in medieval Holland nor old Japan--had a\n",
       "garden been more formal, been better tended. Every plant had all the\n",
       "loam, light, water, air and nourishment it could use.\n",
       "\n",
       "A hospital orderly came down the corridor, singing under his breath a\n",
       "popular song:\n",
       "\n",
       "     If you don't like my kisses, honey,\n",
       "     Here's what I will do:\n",
       "     I'll go see a girl in purple,\n",
       "     Kiss this sad world toodle-oo.\n",
       "     If you don't want my lovin',\n",
       "     Why should I take up all this space?\n",
       "     I'll get off this old planet,\n",
       "     Let some sweet baby have my place.\n",
       "\n",
       "The orderly looked in at the mural and the muralist. \"Looks so real,\"\n",
       "he said, \"I can practically imagine I'm standing in the middle of it.\"\n",
       "\n",
       "\"What makes you think you're not in it?\" said the painter. He gave a\n",
       "satiric smile. \"It's called 'The Happy Garden of Life,' you know.\"\n",
       "\n",
       "\"That's good of Dr. Hitz,\" said the orderly.\n",
       "\n",
       "He was referring to one of the male figures in white, whose head was a\n",
       "portrait of Dr. Benjamin Hitz, the hospital's Chief Obstetrician. Hitz\n",
       "was a blindingly handsome man.\n",
       "\n",
       "\"Lot of faces still to fill in,\" said the orderly. He meant that the\n",
       "faces of many of the figures in the mural were still blank. All blanks\n",
       "were to be filled with portraits of important people on either the\n",
       "hospital staff or from the Chicago Office of the Federal Bureau of\n",
       "Termination.\n",
       "\n",
       "\"Must be nice to be able to make pictures that look like something,\"\n",
       "said the orderly.\n",
       "\n",
       "The painter's face curdled with scorn. \"You think I'm proud of this\n",
       "daub?\" he said. \"You think this is my idea of what life really looks\n",
       "like?\"\n",
       "\n",
       "\"What's your idea of what life looks like?\" said the orderly.\n",
       "\n",
       "The painter gestured at a foul dropcloth. \"There's a good picture of\n",
       "it,\" he said. \"Frame that, and you'll have a picture a damn sight more\n",
       "honest than this one.\"\n",
       "\n",
       "\"You're a gloomy old duck, aren't you?\" said the orderly.\n",
       "\n",
       "\"Is that a crime?\" said the painter.\n",
       "\n",
       "The orderly shrugged. \"If you don't like it here, Grandpa--\" he said,\n",
       "and he finished the thought with the trick telephone number that people\n",
       "who didn't want to live any more were supposed to call. The zero in the\n",
       "telephone number he pronounced \"naught.\"\n",
       "\n",
       "The number was: \"2 B R 0 2 B.\"\n",
       "\n",
       "It was the telephone number of an institution whose fanciful sobriquets\n",
       "included: \"Automat,\" \"Birdland,\" \"Cannery,\" \"Catbox,\" \"De-louser,\"\n",
       "\"Easy-go,\" \"Good-by, Mother,\" \"Happy Hooligan,\" \"Kiss-me-quick,\" \"Lucky\n",
       "Pierre,\" \"Sheepdip,\" \"Waring Blendor,\" \"Weep-no-more\" and \"Why Worry?\"\n",
       "\n",
       "\"To be or not to be\" was the telephone number of the municipal gas\n",
       "chambers of the Federal Bureau of Termination.\n",
       "\n",
       "The painter thumbed his nose at the orderly. \"When I decide it's time to\n",
       "go,\" he said, \"it won't be at the Sheepdip.\"\n",
       "\n",
       "\"A do-it-yourselfer, eh?\" said the orderly. \"Messy business, Grandpa.\n",
       "Why don't you have a little consideration for the people who have to\n",
       "clean up after you?\"\n",
       "\n",
       "The painter expressed with an obscenity his lack of concern for the\n",
       "tribulations of his survivors. \"The world could do with a good deal more\n",
       "mess, if you ask me,\" he said.\n",
       "\n",
       "The orderly laughed and moved on.\n",
       "\n",
       "Wehling, the waiting father, mumbled something without raising his head.\n",
       "And then he fell silent again.\n",
       "\n",
       "A coarse, formidable woman strode into the waiting room on spike heels.\n",
       "Her shoes, stockings, trench coat, bag and overseas cap were all purple,\n",
       "the purple the painter called \"the color of grapes on Judgment Day.\"\n",
       "\n",
       "The medallion on her purple musette bag was the seal of the Service\n",
       "Division of the Federal Bureau of Termination, an eagle perched on a\n",
       "turnstile.\n",
       "\n",
       "The woman had a lot of facial hair--an unmistakable mustache, in fact. A\n",
       "curious thing about gas-chamber hostesses was that, no matter how lovely\n",
       "and feminine they were when recruited, they all sprouted mustaches\n",
       "within five years or so.\n",
       "\n",
       "\"Is this where I'm supposed to come?\" she said to the painter.\n",
       "\n",
       "\"A lot would depend on what your business was,\" he said. \"You aren't\n",
       "about to have a baby, are you?\"\n",
       "\n",
       "\"They told me I was supposed to pose for some picture,\" she said. \"My\n",
       "name's Leora Duncan.\" She waited.\n",
       "\n",
       "\"And you dunk people,\" he said.\n",
       "\n",
       "\"What?\" she said.\n",
       "\n",
       "\"Skip it,\" he said.\n",
       "\n",
       "\"That sure is a beautiful picture,\" she said. \"Looks just like heaven or\n",
       "something.\"\n",
       "\n",
       "\"Or something,\" said the painter. He took a list of names from his smock\n",
       "pocket. \"Duncan, Duncan, Duncan,\" he said, scanning the list. \"Yes--here\n",
       "you are. You're entitled to be immortalized. See any faceless body here\n",
       "you'd like me to stick your head on? We've got a few choice ones left.\"\n",
       "\n",
       "She studied the mural bleakly. \"Gee,\" she said, \"they're all the same to\n",
       "me. I don't know anything about art.\"\n",
       "\n",
       "\"A body's a body, eh?\" he said. \"All righty. As a master of fine art, I\n",
       "recommend this body here.\" He indicated a faceless figure of a woman who\n",
       "was carrying dried stalks to a trash-burner.\n",
       "\n",
       "\"Well,\" said Leora Duncan, \"that's more the disposal people, isn't it? I\n",
       "mean, I'm in service. I don't do any disposing.\""
      ]
     },
     "execution_count": 18,
     "metadata": {},
     "output_type": "execute_result"
    }
   ],
   "source": [
    "#Take a look at the text of the misassigned chapter.\n",
    "test.loc[deviant_assignments[0]].raw_parse"
   ]
  }
 ],
 "metadata": {
  "anaconda-cloud": {},
  "kernelspec": {
   "display_name": "Environment (conda_dspy3)",
   "language": "python",
   "name": "conda_dspy3"
  },
  "language_info": {
   "codemirror_mode": {
    "name": "ipython",
    "version": 3
   },
   "file_extension": ".py",
   "mimetype": "text/x-python",
   "name": "python",
   "nbconvert_exporter": "python",
   "pygments_lexer": "ipython3",
   "version": "3.6.2"
  }
 },
 "nbformat": 4,
 "nbformat_minor": 2
}
